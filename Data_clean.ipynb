{
 "cells": [
  {
   "cell_type": "code",
   "execution_count": 12,
   "metadata": {},
   "outputs": [],
   "source": [
    "import numpy as np\n",
    "import pandas as pd\n",
    "import matplotlib.pyplot as plt\n",
    "\n",
    "#import geopandas as gpd\n",
    "#import pycountry"
   ]
  },
  {
   "cell_type": "code",
   "execution_count": 13,
   "metadata": {},
   "outputs": [
    {
     "data": {
      "text/html": [
       "<div>\n",
       "<style scoped>\n",
       "    .dataframe tbody tr th:only-of-type {\n",
       "        vertical-align: middle;\n",
       "    }\n",
       "\n",
       "    .dataframe tbody tr th {\n",
       "        vertical-align: top;\n",
       "    }\n",
       "\n",
       "    .dataframe thead th {\n",
       "        text-align: right;\n",
       "    }\n",
       "</style>\n",
       "<table border=\"1\" class=\"dataframe\">\n",
       "  <thead>\n",
       "    <tr style=\"text-align: right;\">\n",
       "      <th></th>\n",
       "      <th>LOCATION</th>\n",
       "      <th>INDICATOR</th>\n",
       "      <th>SUBJECT</th>\n",
       "      <th>MEASURE</th>\n",
       "      <th>FREQUENCY</th>\n",
       "      <th>TIME</th>\n",
       "      <th>Value</th>\n",
       "      <th>Flag Codes</th>\n",
       "    </tr>\n",
       "  </thead>\n",
       "  <tbody>\n",
       "    <tr>\n",
       "      <th>0</th>\n",
       "      <td>AUS</td>\n",
       "      <td>CPI</td>\n",
       "      <td>ENRG</td>\n",
       "      <td>AGRWTH</td>\n",
       "      <td>A</td>\n",
       "      <td>1972</td>\n",
       "      <td>4.910070</td>\n",
       "      <td>NaN</td>\n",
       "    </tr>\n",
       "    <tr>\n",
       "      <th>1</th>\n",
       "      <td>AUS</td>\n",
       "      <td>CPI</td>\n",
       "      <td>ENRG</td>\n",
       "      <td>AGRWTH</td>\n",
       "      <td>A</td>\n",
       "      <td>1973</td>\n",
       "      <td>3.762801</td>\n",
       "      <td>NaN</td>\n",
       "    </tr>\n",
       "    <tr>\n",
       "      <th>2</th>\n",
       "      <td>AUS</td>\n",
       "      <td>CPI</td>\n",
       "      <td>ENRG</td>\n",
       "      <td>AGRWTH</td>\n",
       "      <td>A</td>\n",
       "      <td>1974</td>\n",
       "      <td>13.173540</td>\n",
       "      <td>NaN</td>\n",
       "    </tr>\n",
       "    <tr>\n",
       "      <th>3</th>\n",
       "      <td>AUS</td>\n",
       "      <td>CPI</td>\n",
       "      <td>ENRG</td>\n",
       "      <td>AGRWTH</td>\n",
       "      <td>A</td>\n",
       "      <td>1975</td>\n",
       "      <td>19.422470</td>\n",
       "      <td>NaN</td>\n",
       "    </tr>\n",
       "    <tr>\n",
       "      <th>4</th>\n",
       "      <td>AUS</td>\n",
       "      <td>CPI</td>\n",
       "      <td>ENRG</td>\n",
       "      <td>AGRWTH</td>\n",
       "      <td>A</td>\n",
       "      <td>1976</td>\n",
       "      <td>8.833195</td>\n",
       "      <td>NaN</td>\n",
       "    </tr>\n",
       "  </tbody>\n",
       "</table>\n",
       "</div>"
      ],
      "text/plain": [
       "  LOCATION INDICATOR SUBJECT MEASURE FREQUENCY  TIME      Value Flag Codes\n",
       "0      AUS       CPI    ENRG  AGRWTH         A  1972   4.910070        NaN\n",
       "1      AUS       CPI    ENRG  AGRWTH         A  1973   3.762801        NaN\n",
       "2      AUS       CPI    ENRG  AGRWTH         A  1974  13.173540        NaN\n",
       "3      AUS       CPI    ENRG  AGRWTH         A  1975  19.422470        NaN\n",
       "4      AUS       CPI    ENRG  AGRWTH         A  1976   8.833195        NaN"
      ]
     },
     "execution_count": 13,
     "metadata": {},
     "output_type": "execute_result"
    }
   ],
   "source": [
    "path = (r'C:\\Users\\ollie\\OneDrive - Danmarks Tekniske Universitet\\Uni\\Data Visualisation\\Homework 9\\Inflation.csv')\n",
    "df_full = pd.read_csv(path, sep=',')\n",
    "pd.options.display.max_columns = 999\n",
    "df_full.head()"
   ]
  },
  {
   "cell_type": "code",
   "execution_count": 14,
   "metadata": {},
   "outputs": [],
   "source": [
    "np.set_printoptions(threshold=2000)\n",
    "#df_full.columns.values\n",
    "#df_full['SUBJECT'].unique()\n",
    "\n",
    "times = df_full['TIME'].unique()\n",
    "#print(console.log(JSON.stringify(times)) )"
   ]
  },
  {
   "cell_type": "code",
   "execution_count": 15,
   "metadata": {},
   "outputs": [
    {
     "data": {
      "text/plain": [
       "\"\\ntimes_keep = ['2000-01', '2000-02'\\n, '2000-03', '2000-04', '2000-05', '2000-06', '2000-07', '2000-08', '2000-09'\\n, '2000-10', '2000-11', '2000-12', '2001-01', '2001-02', '2001-03', '2001-04'\\n, '2001-05', '2001-06', '2001-07', '2001-08', '2001-09', '2001-10', '2001-11'\\n, '2001-12', '2002-01', '2002-02', '2002-03', '2002-04', '2002-05', '2002-06'\\n, '2002-07', '2002-08', '2002-09', '2002-10', '2002-11', '2002-12', '2003-01'\\n, '2003-02', '2003-03', '2003-04', '2003-05', '2003-06', '2003-07', '2003-08'\\n, '2003-09', '2003-10', '2003-11', '2003-12', '2004-01', '2004-02', '2004-03'\\n, '2004-04', '2004-05', '2004-06', '2004-07', '2004-08', '2004-09', '2004-10'\\n, '2004-11', '2004-12', '2005-01', '2005-02', '2005-03', '2005-04', '2005-05'\\n, '2005-06', '2005-07', '2005-08', '2005-09', '2005-10', '2005-11', '2005-12'\\n, '2006-01', '2006-02', '2006-03', '2006-04', '2006-05', '2006-06', '2006-07'\\n, '2006-08', '2006-09', '2006-10', '2006-11', '2006-12', '2007-01', '2007-02'\\n, '2007-03', '2007-04', '2007-05', '2007-06', '2007-07', '2007-08', '2007-09'\\n, '2007-10', '2007-11', '2007-12', '2008-01', '2008-02', '2008-03', '2008-04'\\n, '2008-05', '2008-06', '2008-07', '2008-08', '2008-09', '2008-10', '2008-11'\\n, '2008-12', '2009-01', '2009-02', '2009-03', '2009-04', '2009-05', '2009-06'\\n, '2009-07', '2009-08', '2009-09', '2009-10', '2009-11', '2009-12', '2010-01'\\n, '2010-02', '2010-03', '2010-04', '2010-05', '2010-06', '2010-07', '2010-08'\\n, '2010-09', '2010-10', '2010-11', '2010-12', '2011-01', '2011-02', '2011-03'\\n, '2011-04', '2011-05', '2011-06', '2011-07', '2011-08', '2011-09', '2011-10'\\n, '2011-11', '2011-12', '2012-01', '2012-02', '2012-03', '2012-04', '2012-05'\\n, '2012-06', '2012-07', '2012-08', '2012-09', '2012-10', '2012-11', '2012-12'\\n, '2013-01', '2013-02', '2013-03', '2013-04', '2013-05', '2013-06', '2013-07'\\n, '2013-08', '2013-09', '2013-10', '2013-11', '2013-12', '2014-01', '2014-02'\\n, '2014-03', '2014-04', '2014-05', '2014-06', '2014-07', '2014-08', '2014-09'\\n, '2014-10', '2014-11', '2014-12', '2015-01', '2015-02', '2015-03', '2015-04'\\n, '2015-05', '2015-06', '2015-07', '2015-08', '2015-09', '2015-10', '2015-11'\\n, '2015-12', '2016-01', '2016-02', '2016-03', '2016-04', '2016-05', '2016-06'\\n, '2016-07', '2016-08', '2016-09', '2016-10', '2016-11', '2016-12', '2017-01'\\n, '2017-02', '2017-03', '2017-04', '2017-05', '2017-06', '2017-07', '2017-08'\\n, '2017-09', '2017-10', '2017-11', '2017-12', '2018-01', '2018-02', '2018-03'\\n, '2018-04', '2018-05', '2018-06', '2018-07', '2018-08', '2018-09', '2018-10'\\n, '2018-11', '2018-12', '2019-01', '2019-02', '2019-03', '2019-04', '2019-05'\\n, '2019-06', '2019-07', '2019-08', '2019-09', '2019-10', '2019-11', '2019-12'\\n, '2020-01', '2020-02', '2020-03', '2020-04', '2020-05', '2020-06', '2020-07'\\n, '2020-08', '2020-09', '2020-10', '2020-11', '2020-12', '2021-01', '2021-02'\\n, '2021-03', '2021-04', '2021-05', '2021-06', '2021-07', '2021-08', '2021-09'\\n, '2021-10', '2021-11', '2021-12', '2022-01', '2022-02', '2022-03', '2022-04'\\n, '2022-05', '2022-06', '2022-07', '2022-08'] \""
      ]
     },
     "execution_count": 15,
     "metadata": {},
     "output_type": "execute_result"
    }
   ],
   "source": [
    "#There are 3 types of \"subject\"\n",
    "# - Energy\n",
    "# - Food\n",
    "# - Total excluding energy and food\n",
    "# - Total\n",
    "\n",
    "# Only totals\n",
    "df = df_full.copy()\n",
    "\n",
    "# Remove all rows that are not in the years 2000-2022 with monthly data\n",
    "\"\"\"\n",
    "times_keep = ['2000-01', '2000-02'\n",
    ", '2000-03', '2000-04', '2000-05', '2000-06', '2000-07', '2000-08', '2000-09'\n",
    ", '2000-10', '2000-11', '2000-12', '2001-01', '2001-02', '2001-03', '2001-04'\n",
    ", '2001-05', '2001-06', '2001-07', '2001-08', '2001-09', '2001-10', '2001-11'\n",
    ", '2001-12', '2002-01', '2002-02', '2002-03', '2002-04', '2002-05', '2002-06'\n",
    ", '2002-07', '2002-08', '2002-09', '2002-10', '2002-11', '2002-12', '2003-01'\n",
    ", '2003-02', '2003-03', '2003-04', '2003-05', '2003-06', '2003-07', '2003-08'\n",
    ", '2003-09', '2003-10', '2003-11', '2003-12', '2004-01', '2004-02', '2004-03'\n",
    ", '2004-04', '2004-05', '2004-06', '2004-07', '2004-08', '2004-09', '2004-10'\n",
    ", '2004-11', '2004-12', '2005-01', '2005-02', '2005-03', '2005-04', '2005-05'\n",
    ", '2005-06', '2005-07', '2005-08', '2005-09', '2005-10', '2005-11', '2005-12'\n",
    ", '2006-01', '2006-02', '2006-03', '2006-04', '2006-05', '2006-06', '2006-07'\n",
    ", '2006-08', '2006-09', '2006-10', '2006-11', '2006-12', '2007-01', '2007-02'\n",
    ", '2007-03', '2007-04', '2007-05', '2007-06', '2007-07', '2007-08', '2007-09'\n",
    ", '2007-10', '2007-11', '2007-12', '2008-01', '2008-02', '2008-03', '2008-04'\n",
    ", '2008-05', '2008-06', '2008-07', '2008-08', '2008-09', '2008-10', '2008-11'\n",
    ", '2008-12', '2009-01', '2009-02', '2009-03', '2009-04', '2009-05', '2009-06'\n",
    ", '2009-07', '2009-08', '2009-09', '2009-10', '2009-11', '2009-12', '2010-01'\n",
    ", '2010-02', '2010-03', '2010-04', '2010-05', '2010-06', '2010-07', '2010-08'\n",
    ", '2010-09', '2010-10', '2010-11', '2010-12', '2011-01', '2011-02', '2011-03'\n",
    ", '2011-04', '2011-05', '2011-06', '2011-07', '2011-08', '2011-09', '2011-10'\n",
    ", '2011-11', '2011-12', '2012-01', '2012-02', '2012-03', '2012-04', '2012-05'\n",
    ", '2012-06', '2012-07', '2012-08', '2012-09', '2012-10', '2012-11', '2012-12'\n",
    ", '2013-01', '2013-02', '2013-03', '2013-04', '2013-05', '2013-06', '2013-07'\n",
    ", '2013-08', '2013-09', '2013-10', '2013-11', '2013-12', '2014-01', '2014-02'\n",
    ", '2014-03', '2014-04', '2014-05', '2014-06', '2014-07', '2014-08', '2014-09'\n",
    ", '2014-10', '2014-11', '2014-12', '2015-01', '2015-02', '2015-03', '2015-04'\n",
    ", '2015-05', '2015-06', '2015-07', '2015-08', '2015-09', '2015-10', '2015-11'\n",
    ", '2015-12', '2016-01', '2016-02', '2016-03', '2016-04', '2016-05', '2016-06'\n",
    ", '2016-07', '2016-08', '2016-09', '2016-10', '2016-11', '2016-12', '2017-01'\n",
    ", '2017-02', '2017-03', '2017-04', '2017-05', '2017-06', '2017-07', '2017-08'\n",
    ", '2017-09', '2017-10', '2017-11', '2017-12', '2018-01', '2018-02', '2018-03'\n",
    ", '2018-04', '2018-05', '2018-06', '2018-07', '2018-08', '2018-09', '2018-10'\n",
    ", '2018-11', '2018-12', '2019-01', '2019-02', '2019-03', '2019-04', '2019-05'\n",
    ", '2019-06', '2019-07', '2019-08', '2019-09', '2019-10', '2019-11', '2019-12'\n",
    ", '2020-01', '2020-02', '2020-03', '2020-04', '2020-05', '2020-06', '2020-07'\n",
    ", '2020-08', '2020-09', '2020-10', '2020-11', '2020-12', '2021-01', '2021-02'\n",
    ", '2021-03', '2021-04', '2021-05', '2021-06', '2021-07', '2021-08', '2021-09'\n",
    ", '2021-10', '2021-11', '2021-12', '2022-01', '2022-02', '2022-03', '2022-04'\n",
    ", '2022-05', '2022-06', '2022-07', '2022-08'] \"\"\""
   ]
  },
  {
   "cell_type": "code",
   "execution_count": 16,
   "metadata": {},
   "outputs": [],
   "source": [
    "times_keep = ['2010-01'\n",
    ", '2010-02', '2010-03', '2010-04', '2010-05', '2010-06', '2010-07', '2010-08'\n",
    ", '2010-09', '2010-10', '2010-11', '2010-12', '2011-01', '2011-02', '2011-03'\n",
    ", '2011-04', '2011-05', '2011-06', '2011-07', '2011-08', '2011-09', '2011-10'\n",
    ", '2011-11', '2011-12', '2012-01', '2012-02', '2012-03', '2012-04', '2012-05'\n",
    ", '2012-06', '2012-07', '2012-08', '2012-09', '2012-10', '2012-11', '2012-12'\n",
    ", '2013-01', '2013-02', '2013-03', '2013-04', '2013-05', '2013-06', '2013-07'\n",
    ", '2013-08', '2013-09', '2013-10', '2013-11', '2013-12', '2014-01', '2014-02'\n",
    ", '2014-03', '2014-04', '2014-05', '2014-06', '2014-07', '2014-08', '2014-09'\n",
    ", '2014-10', '2014-11', '2014-12', '2015-01', '2015-02', '2015-03', '2015-04'\n",
    ", '2015-05', '2015-06', '2015-07', '2015-08', '2015-09', '2015-10', '2015-11'\n",
    ", '2015-12', '2016-01', '2016-02', '2016-03', '2016-04', '2016-05', '2016-06'\n",
    ", '2016-07', '2016-08', '2016-09', '2016-10', '2016-11', '2016-12', '2017-01'\n",
    ", '2017-02', '2017-03', '2017-04', '2017-05', '2017-06', '2017-07', '2017-08'\n",
    ", '2017-09', '2017-10', '2017-11', '2017-12', '2018-01', '2018-02', '2018-03'\n",
    ", '2018-04', '2018-05', '2018-06', '2018-07', '2018-08', '2018-09', '2018-10'\n",
    ", '2018-11', '2018-12', '2019-01', '2019-02', '2019-03', '2019-04', '2019-05'\n",
    ", '2019-06', '2019-07', '2019-08', '2019-09', '2019-10', '2019-11', '2019-12'\n",
    ", '2020-01', '2020-02', '2020-03', '2020-04', '2020-05', '2020-06', '2020-07'\n",
    ", '2020-08', '2020-09', '2020-10', '2020-11', '2020-12', '2021-01', '2021-02'\n",
    ", '2021-03', '2021-04', '2021-05', '2021-06', '2021-07', '2021-08', '2021-09'\n",
    ", '2021-10', '2021-11', '2021-12', '2022-01', '2022-02', '2022-03', '2022-04'\n",
    ", '2022-05', '2022-06', '2022-07', '2022-08']"
   ]
  },
  {
   "cell_type": "code",
   "execution_count": 17,
   "metadata": {},
   "outputs": [],
   "source": [
    "df = df.loc[df['TIME'].isin(times_keep)]\n",
    "#df['TIME'].unique()"
   ]
  },
  {
   "cell_type": "code",
   "execution_count": 18,
   "metadata": {},
   "outputs": [
    {
     "name": "stdout",
     "output_type": "stream",
     "text": [
      "Before: 54724\n",
      "After: 14925\n"
     ]
    }
   ],
   "source": [
    "# Remove all rows that are not total\n",
    "print(\"Before:\", len(df['SUBJECT']))\n",
    "df.drop(df.index[df['SUBJECT'] != \"TOT\"], inplace = True)\n",
    "print(\"After:\", len(df['SUBJECT']))\n"
   ]
  },
  {
   "cell_type": "code",
   "execution_count": 19,
   "metadata": {},
   "outputs": [
    {
     "data": {
      "text/plain": [
       "array(['AUT', 'BEL', 'CAN', 'CZE', 'DNK', 'FIN', 'FRA', 'DEU', 'GRC',\n",
       "       'HUN', 'ISL', 'IRL', 'ITA', 'JPN', 'KOR', 'LUX', 'MEX', 'NLD',\n",
       "       'NOR', 'POL', 'PRT', 'SVK', 'ESP', 'SWE', 'CHE', 'TUR', 'GBR',\n",
       "       'USA', 'BRA', 'CHL', 'CHN', 'EST', 'IND', 'IDN', 'ISR', 'RUS',\n",
       "       'SVN', 'ZAF', 'OECD', 'OECDE', 'G-7', 'COL', 'LVA', 'SAU', 'EA19',\n",
       "       'ARG', 'LTU', 'CRI', 'G-20', 'EU27_2020'], dtype=object)"
      ]
     },
     "execution_count": 19,
     "metadata": {},
     "output_type": "execute_result"
    }
   ],
   "source": [
    "df['LOCATION'].unique()"
   ]
  },
  {
   "cell_type": "code",
   "execution_count": 20,
   "metadata": {},
   "outputs": [
    {
     "data": {
      "text/html": [
       "<div>\n",
       "<style scoped>\n",
       "    .dataframe tbody tr th:only-of-type {\n",
       "        vertical-align: middle;\n",
       "    }\n",
       "\n",
       "    .dataframe tbody tr th {\n",
       "        vertical-align: top;\n",
       "    }\n",
       "\n",
       "    .dataframe thead th {\n",
       "        text-align: right;\n",
       "    }\n",
       "</style>\n",
       "<table border=\"1\" class=\"dataframe\">\n",
       "  <thead>\n",
       "    <tr style=\"text-align: right;\">\n",
       "      <th></th>\n",
       "      <th>LOCATION</th>\n",
       "      <th>INDICATOR</th>\n",
       "      <th>SUBJECT</th>\n",
       "      <th>MEASURE</th>\n",
       "      <th>FREQUENCY</th>\n",
       "      <th>TIME</th>\n",
       "      <th>VALUE</th>\n",
       "    </tr>\n",
       "  </thead>\n",
       "  <tbody>\n",
       "    <tr>\n",
       "      <th>32098</th>\n",
       "      <td>AUT</td>\n",
       "      <td>CPI</td>\n",
       "      <td>TOT</td>\n",
       "      <td>AGRWTH</td>\n",
       "      <td>M</td>\n",
       "      <td>2010-01</td>\n",
       "      <td>1.219512</td>\n",
       "    </tr>\n",
       "    <tr>\n",
       "      <th>32099</th>\n",
       "      <td>AUT</td>\n",
       "      <td>CPI</td>\n",
       "      <td>TOT</td>\n",
       "      <td>AGRWTH</td>\n",
       "      <td>M</td>\n",
       "      <td>2010-02</td>\n",
       "      <td>1.028037</td>\n",
       "    </tr>\n",
       "    <tr>\n",
       "      <th>32100</th>\n",
       "      <td>AUT</td>\n",
       "      <td>CPI</td>\n",
       "      <td>TOT</td>\n",
       "      <td>AGRWTH</td>\n",
       "      <td>M</td>\n",
       "      <td>2010-03</td>\n",
       "      <td>1.958955</td>\n",
       "    </tr>\n",
       "    <tr>\n",
       "      <th>32101</th>\n",
       "      <td>AUT</td>\n",
       "      <td>CPI</td>\n",
       "      <td>TOT</td>\n",
       "      <td>AGRWTH</td>\n",
       "      <td>M</td>\n",
       "      <td>2010-04</td>\n",
       "      <td>2.048417</td>\n",
       "    </tr>\n",
       "    <tr>\n",
       "      <th>32102</th>\n",
       "      <td>AUT</td>\n",
       "      <td>CPI</td>\n",
       "      <td>TOT</td>\n",
       "      <td>AGRWTH</td>\n",
       "      <td>M</td>\n",
       "      <td>2010-05</td>\n",
       "      <td>1.857010</td>\n",
       "    </tr>\n",
       "  </tbody>\n",
       "</table>\n",
       "</div>"
      ],
      "text/plain": [
       "      LOCATION INDICATOR SUBJECT MEASURE FREQUENCY     TIME     VALUE\n",
       "32098      AUT       CPI     TOT  AGRWTH         M  2010-01  1.219512\n",
       "32099      AUT       CPI     TOT  AGRWTH         M  2010-02  1.028037\n",
       "32100      AUT       CPI     TOT  AGRWTH         M  2010-03  1.958955\n",
       "32101      AUT       CPI     TOT  AGRWTH         M  2010-04  2.048417\n",
       "32102      AUT       CPI     TOT  AGRWTH         M  2010-05  1.857010"
      ]
     },
     "execution_count": 20,
     "metadata": {},
     "output_type": "execute_result"
    }
   ],
   "source": [
    "countries_keep = ['AUS','AUT', 'BEL', 'CAN', 'CZE', 'DNK', 'FIN', 'FRA', 'DEU', 'GRC',\n",
    "       'HUN', 'ISL', 'IRL', 'ITA', 'JPN', 'KOR', 'LUX', 'MEX', 'NLD',\n",
    "       'NOR', 'POL', 'PRT', 'SVK', 'ESP', 'SWE', 'CHE', 'TUR', 'GBR',\n",
    "       'USA', 'BRA', 'CHL', 'CHN', 'EST', 'IND', 'IDN', 'ISR', 'RUS',\n",
    "       'SVN', 'ZAF', 'COL', 'LVA', 'SAU',\n",
    "       'ARG', 'LTU', 'CRI']\n",
    "df = df.loc[df['LOCATION'].isin(countries_keep)]\n",
    "\n",
    "df = df.loc[df['MEASURE'] == \"AGRWTH\"]\n",
    "\n",
    "df = df.drop(columns=['Flag Codes'])\n",
    "#df['LOCATION'].unique()\n",
    "#df.drop(df.columns[50:100], axis=1, inplace=True)\n",
    "df = df.rename(columns={'Value': 'VALUE'})\n",
    "#df.columns.values\n",
    "df.head()"
   ]
  },
  {
   "cell_type": "code",
   "execution_count": 21,
   "metadata": {},
   "outputs": [
    {
     "name": "stdout",
     "output_type": "stream",
     "text": [
      "Number of countries:  44\n",
      "Number of months:  152\n",
      "Length of dataframe:  6580\n"
     ]
    }
   ],
   "source": [
    "print('Number of countries: ', len(df['LOCATION'].unique()))\n",
    "print('Number of months: ', len(df['TIME'].unique()))\n",
    "print('Length of dataframe: ', len(df))\n"
   ]
  },
  {
   "cell_type": "code",
   "execution_count": 133,
   "metadata": {},
   "outputs": [],
   "source": [
    "country_dict = {'AUT': 'Austria',\n",
    "                'BEL': 'Belgium',\n",
    "                'CAN': 'Canada',\n",
    "                'CZE': 'Czech Republic',\n",
    "                'DNK': 'Denmark',\n",
    "                'FIN': 'Finland',\n",
    "                'FRA': 'France',\n",
    "                'DEU': 'Germany',\n",
    "                'GRC': 'Greece',\n",
    "                'HUN': 'Hungary',\n",
    "                'ISL': 'Iceland',\n",
    "                'IRL': 'Ireland',\n",
    "                'ITA': 'Italy',\n",
    "                'JPN': 'Japan',\n",
    "                'KOR': 'Korea',\n",
    "                'LUX': 'Luxembourg',\n",
    "                'MEX': 'Mexico',\n",
    "                'NLD': 'Netherlands',\n",
    "                'NOR': 'Norway',\n",
    "                'POL': 'Poland',\n",
    "                'PRT': 'Portugal',\n",
    "                'SVK': 'Slovakia',\n",
    "                'ESP': 'Spain',\n",
    "                'SWE': 'Sweden',\n",
    "                'CHE': 'Switzerland',\n",
    "                'TUR': 'Turkey',\n",
    "                'GBR': 'United Kingdom',\n",
    "                'USA': 'United States of America',\n",
    "                'BRA': 'Brazil',\n",
    "                'CHL': 'Chile',\n",
    "                'CHN': 'China',\n",
    "                'EST': 'Estonia',\n",
    "                'IND': 'India',\n",
    "                'IDN': 'Indonesia',\n",
    "                'ISR': 'Isreal',\n",
    "                'RUS': 'Russia',\n",
    "                'SVN': 'Slovenia',\n",
    "                'ZAF': 'South Africa',\n",
    "                'COL': 'Colombia',\n",
    "                'LVA': 'Latvia',\n",
    "                'SAU': 'Saudi Arabia',\n",
    "                'ARG': 'Argentina',\n",
    "                'LTU': 'Lithuania',\n",
    "                'CRI': 'Costa Rica'}\n",
    "df['COUNTRY'] = df['LOCATION'].map(country_dict)"
   ]
  },
  {
   "cell_type": "code",
   "execution_count": 134,
   "metadata": {},
   "outputs": [],
   "source": [
    "df.to_csv('data/inflation_clean.csv', index=False)"
   ]
  },
  {
   "cell_type": "markdown",
   "metadata": {},
   "source": []
  },
  {
   "cell_type": "code",
   "execution_count": 122,
   "metadata": {},
   "outputs": [
    {
     "ename": "KeyError",
     "evalue": "'Value'",
     "output_type": "error",
     "traceback": [
      "\u001b[1;31m---------------------------------------------------------------------------\u001b[0m",
      "\u001b[1;31mKeyError\u001b[0m                                  Traceback (most recent call last)",
      "\u001b[1;32mc:\\Users\\ollie\\AppData\\Local\\Programs\\Python\\Python39\\lib\\site-packages\\pandas\\core\\indexes\\base.py\u001b[0m in \u001b[0;36mget_loc\u001b[1;34m(self, key, method, tolerance)\u001b[0m\n\u001b[0;32m   3620\u001b[0m             \u001b[1;32mtry\u001b[0m\u001b[1;33m:\u001b[0m\u001b[1;33m\u001b[0m\u001b[1;33m\u001b[0m\u001b[0m\n\u001b[1;32m-> 3621\u001b[1;33m                 \u001b[1;32mreturn\u001b[0m \u001b[0mself\u001b[0m\u001b[1;33m.\u001b[0m\u001b[0m_engine\u001b[0m\u001b[1;33m.\u001b[0m\u001b[0mget_loc\u001b[0m\u001b[1;33m(\u001b[0m\u001b[0mcasted_key\u001b[0m\u001b[1;33m)\u001b[0m\u001b[1;33m\u001b[0m\u001b[1;33m\u001b[0m\u001b[0m\n\u001b[0m\u001b[0;32m   3622\u001b[0m             \u001b[1;32mexcept\u001b[0m \u001b[0mKeyError\u001b[0m \u001b[1;32mas\u001b[0m \u001b[0merr\u001b[0m\u001b[1;33m:\u001b[0m\u001b[1;33m\u001b[0m\u001b[1;33m\u001b[0m\u001b[0m\n",
      "\u001b[1;32mc:\\Users\\ollie\\AppData\\Local\\Programs\\Python\\Python39\\lib\\site-packages\\pandas\\_libs\\index.pyx\u001b[0m in \u001b[0;36mpandas._libs.index.IndexEngine.get_loc\u001b[1;34m()\u001b[0m\n",
      "\u001b[1;32mc:\\Users\\ollie\\AppData\\Local\\Programs\\Python\\Python39\\lib\\site-packages\\pandas\\_libs\\index.pyx\u001b[0m in \u001b[0;36mpandas._libs.index.IndexEngine.get_loc\u001b[1;34m()\u001b[0m\n",
      "\u001b[1;32mpandas\\_libs\\hashtable_class_helper.pxi\u001b[0m in \u001b[0;36mpandas._libs.hashtable.PyObjectHashTable.get_item\u001b[1;34m()\u001b[0m\n",
      "\u001b[1;32mpandas\\_libs\\hashtable_class_helper.pxi\u001b[0m in \u001b[0;36mpandas._libs.hashtable.PyObjectHashTable.get_item\u001b[1;34m()\u001b[0m\n",
      "\u001b[1;31mKeyError\u001b[0m: 'Value'",
      "\nThe above exception was the direct cause of the following exception:\n",
      "\u001b[1;31mKeyError\u001b[0m                                  Traceback (most recent call last)",
      "\u001b[1;32m~\\AppData\\Local\\Temp\\ipykernel_6312\\2127631659.py\u001b[0m in \u001b[0;36m<cell line: 6>\u001b[1;34m()\u001b[0m\n\u001b[0;32m      5\u001b[0m \u001b[1;33m\u001b[0m\u001b[0m\n\u001b[0;32m      6\u001b[0m \u001b[1;32mfor\u001b[0m \u001b[0mcountry\u001b[0m \u001b[1;32min\u001b[0m \u001b[0mplot_countries\u001b[0m\u001b[1;33m:\u001b[0m\u001b[1;33m\u001b[0m\u001b[1;33m\u001b[0m\u001b[0m\n\u001b[1;32m----> 7\u001b[1;33m     \u001b[0mplt\u001b[0m\u001b[1;33m.\u001b[0m\u001b[0mplot\u001b[0m\u001b[1;33m(\u001b[0m\u001b[0mdf\u001b[0m\u001b[1;33m.\u001b[0m\u001b[0mloc\u001b[0m\u001b[1;33m[\u001b[0m\u001b[0mdf\u001b[0m\u001b[1;33m[\u001b[0m\u001b[1;34m'LOCATION'\u001b[0m\u001b[1;33m]\u001b[0m\u001b[1;33m.\u001b[0m\u001b[0meq\u001b[0m\u001b[1;33m(\u001b[0m\u001b[0mcountry\u001b[0m\u001b[1;33m)\u001b[0m\u001b[1;33m]\u001b[0m\u001b[1;33m[\u001b[0m\u001b[1;34m'TIME'\u001b[0m\u001b[1;33m]\u001b[0m\u001b[1;33m,\u001b[0m \u001b[0mdf\u001b[0m\u001b[1;33m.\u001b[0m\u001b[0mloc\u001b[0m\u001b[1;33m[\u001b[0m\u001b[0mdf\u001b[0m\u001b[1;33m[\u001b[0m\u001b[1;34m'LOCATION'\u001b[0m\u001b[1;33m]\u001b[0m\u001b[1;33m.\u001b[0m\u001b[0meq\u001b[0m\u001b[1;33m(\u001b[0m\u001b[0mcountry\u001b[0m\u001b[1;33m)\u001b[0m\u001b[1;33m]\u001b[0m\u001b[1;33m[\u001b[0m\u001b[1;34m'Value'\u001b[0m\u001b[1;33m]\u001b[0m\u001b[1;33m,\u001b[0m \u001b[0mlabel\u001b[0m\u001b[1;33m=\u001b[0m\u001b[0mcountry\u001b[0m\u001b[1;33m)\u001b[0m\u001b[1;33m\u001b[0m\u001b[1;33m\u001b[0m\u001b[0m\n\u001b[0m\u001b[0;32m      8\u001b[0m \u001b[1;31m#plt.xticks(np.linspace(0,150,num=13), labels=['2010', '2011','2012','2013','2014','2015','2016','2017','2018','2019','2020','2021','2022'], rotation=90, fontsize=8)\u001b[0m\u001b[1;33m\u001b[0m\u001b[1;33m\u001b[0m\u001b[1;33m\u001b[0m\u001b[0m\n\u001b[0;32m      9\u001b[0m \u001b[0mplt\u001b[0m\u001b[1;33m.\u001b[0m\u001b[0mxticks\u001b[0m\u001b[1;33m(\u001b[0m\u001b[1;33m[\u001b[0m\u001b[1;34m'2010-01'\u001b[0m\u001b[1;33m,\u001b[0m \u001b[1;34m'2011-01'\u001b[0m\u001b[1;33m,\u001b[0m\u001b[1;34m'2012-01'\u001b[0m\u001b[1;33m,\u001b[0m \u001b[1;34m'2013-01'\u001b[0m\u001b[1;33m,\u001b[0m\u001b[1;34m'2014-01'\u001b[0m\u001b[1;33m,\u001b[0m \u001b[1;34m'2015-01'\u001b[0m\u001b[1;33m,\u001b[0m\u001b[1;34m'2016-01'\u001b[0m\u001b[1;33m,\u001b[0m \u001b[1;34m'2017-01'\u001b[0m\u001b[1;33m,\u001b[0m\u001b[1;34m'2018-01'\u001b[0m\u001b[1;33m,\u001b[0m \u001b[1;34m'2019-01'\u001b[0m\u001b[1;33m,\u001b[0m\u001b[1;34m'2020-01'\u001b[0m\u001b[1;33m,\u001b[0m \u001b[1;34m'2021-01'\u001b[0m\u001b[1;33m,\u001b[0m\u001b[1;34m'2022-01'\u001b[0m\u001b[1;33m,\u001b[0m \u001b[1;34m'2022-08'\u001b[0m\u001b[1;33m]\u001b[0m\u001b[1;33m,\u001b[0m \u001b[0mrotation\u001b[0m\u001b[1;33m=\u001b[0m\u001b[1;36m30\u001b[0m\u001b[1;33m)\u001b[0m\u001b[1;33m\u001b[0m\u001b[1;33m\u001b[0m\u001b[0m\n",
      "\u001b[1;32mc:\\Users\\ollie\\AppData\\Local\\Programs\\Python\\Python39\\lib\\site-packages\\pandas\\core\\frame.py\u001b[0m in \u001b[0;36m__getitem__\u001b[1;34m(self, key)\u001b[0m\n\u001b[0;32m   3503\u001b[0m             \u001b[1;32mif\u001b[0m \u001b[0mself\u001b[0m\u001b[1;33m.\u001b[0m\u001b[0mcolumns\u001b[0m\u001b[1;33m.\u001b[0m\u001b[0mnlevels\u001b[0m \u001b[1;33m>\u001b[0m \u001b[1;36m1\u001b[0m\u001b[1;33m:\u001b[0m\u001b[1;33m\u001b[0m\u001b[1;33m\u001b[0m\u001b[0m\n\u001b[0;32m   3504\u001b[0m                 \u001b[1;32mreturn\u001b[0m \u001b[0mself\u001b[0m\u001b[1;33m.\u001b[0m\u001b[0m_getitem_multilevel\u001b[0m\u001b[1;33m(\u001b[0m\u001b[0mkey\u001b[0m\u001b[1;33m)\u001b[0m\u001b[1;33m\u001b[0m\u001b[1;33m\u001b[0m\u001b[0m\n\u001b[1;32m-> 3505\u001b[1;33m             \u001b[0mindexer\u001b[0m \u001b[1;33m=\u001b[0m \u001b[0mself\u001b[0m\u001b[1;33m.\u001b[0m\u001b[0mcolumns\u001b[0m\u001b[1;33m.\u001b[0m\u001b[0mget_loc\u001b[0m\u001b[1;33m(\u001b[0m\u001b[0mkey\u001b[0m\u001b[1;33m)\u001b[0m\u001b[1;33m\u001b[0m\u001b[1;33m\u001b[0m\u001b[0m\n\u001b[0m\u001b[0;32m   3506\u001b[0m             \u001b[1;32mif\u001b[0m \u001b[0mis_integer\u001b[0m\u001b[1;33m(\u001b[0m\u001b[0mindexer\u001b[0m\u001b[1;33m)\u001b[0m\u001b[1;33m:\u001b[0m\u001b[1;33m\u001b[0m\u001b[1;33m\u001b[0m\u001b[0m\n\u001b[0;32m   3507\u001b[0m                 \u001b[0mindexer\u001b[0m \u001b[1;33m=\u001b[0m \u001b[1;33m[\u001b[0m\u001b[0mindexer\u001b[0m\u001b[1;33m]\u001b[0m\u001b[1;33m\u001b[0m\u001b[1;33m\u001b[0m\u001b[0m\n",
      "\u001b[1;32mc:\\Users\\ollie\\AppData\\Local\\Programs\\Python\\Python39\\lib\\site-packages\\pandas\\core\\indexes\\base.py\u001b[0m in \u001b[0;36mget_loc\u001b[1;34m(self, key, method, tolerance)\u001b[0m\n\u001b[0;32m   3621\u001b[0m                 \u001b[1;32mreturn\u001b[0m \u001b[0mself\u001b[0m\u001b[1;33m.\u001b[0m\u001b[0m_engine\u001b[0m\u001b[1;33m.\u001b[0m\u001b[0mget_loc\u001b[0m\u001b[1;33m(\u001b[0m\u001b[0mcasted_key\u001b[0m\u001b[1;33m)\u001b[0m\u001b[1;33m\u001b[0m\u001b[1;33m\u001b[0m\u001b[0m\n\u001b[0;32m   3622\u001b[0m             \u001b[1;32mexcept\u001b[0m \u001b[0mKeyError\u001b[0m \u001b[1;32mas\u001b[0m \u001b[0merr\u001b[0m\u001b[1;33m:\u001b[0m\u001b[1;33m\u001b[0m\u001b[1;33m\u001b[0m\u001b[0m\n\u001b[1;32m-> 3623\u001b[1;33m                 \u001b[1;32mraise\u001b[0m \u001b[0mKeyError\u001b[0m\u001b[1;33m(\u001b[0m\u001b[0mkey\u001b[0m\u001b[1;33m)\u001b[0m \u001b[1;32mfrom\u001b[0m \u001b[0merr\u001b[0m\u001b[1;33m\u001b[0m\u001b[1;33m\u001b[0m\u001b[0m\n\u001b[0m\u001b[0;32m   3624\u001b[0m             \u001b[1;32mexcept\u001b[0m \u001b[0mTypeError\u001b[0m\u001b[1;33m:\u001b[0m\u001b[1;33m\u001b[0m\u001b[1;33m\u001b[0m\u001b[0m\n\u001b[0;32m   3625\u001b[0m                 \u001b[1;31m# If we have a listlike key, _check_indexing_error will raise\u001b[0m\u001b[1;33m\u001b[0m\u001b[1;33m\u001b[0m\u001b[1;33m\u001b[0m\u001b[0m\n",
      "\u001b[1;31mKeyError\u001b[0m: 'Value'"
     ]
    },
    {
     "data": {
      "text/plain": [
       "<Figure size 1400x800 with 0 Axes>"
      ]
     },
     "metadata": {},
     "output_type": "display_data"
    }
   ],
   "source": [
    "import datetime\n",
    "plot_countries = ['USA', 'CHN', 'DNK']\n",
    "plt.figure(figsize=(14, 8), dpi=100)\n",
    "#x_ticks = pd.date_range(datetime.datetime(2010,1,1), datetime.datetime(2021,1,1), freq='YS')\n",
    "\n",
    "for country in plot_countries:\n",
    "    plt.plot(df.loc[df['LOCATION'].eq(country)]['TIME'], df.loc[df['LOCATION'].eq(country)]['Value'], label=country) \n",
    "#plt.xticks(np.linspace(0,150,num=13), labels=['2010', '2011','2012','2013','2014','2015','2016','2017','2018','2019','2020','2021','2022'], rotation=90, fontsize=8)\n",
    "plt.xticks(['2010-01', '2011-01','2012-01', '2013-01','2014-01', '2015-01','2016-01', '2017-01','2018-01', '2019-01','2020-01', '2021-01','2022-01', '2022-08'], rotation=30)\n",
    "plt.legend()\n",
    "plt.show()\n"
   ]
  },
  {
   "cell_type": "code",
   "execution_count": null,
   "metadata": {},
   "outputs": [
    {
     "data": {
      "text/plain": [
       "([<matplotlib.axis.XTick at 0x22c92a29970>,\n",
       "  <matplotlib.axis.XTick at 0x22c92a29940>,\n",
       "  <matplotlib.axis.XTick at 0x22c92a145e0>,\n",
       "  <matplotlib.axis.XTick at 0x22c92d53310>,\n",
       "  <matplotlib.axis.XTick at 0x22c92d58dc0>,\n",
       "  <matplotlib.axis.XTick at 0x22c92d64550>,\n",
       "  <matplotlib.axis.XTick at 0x22c92d64ca0>,\n",
       "  <matplotlib.axis.XTick at 0x22c92d64820>,\n",
       "  <matplotlib.axis.XTick at 0x22c92d531c0>,\n",
       "  <matplotlib.axis.XTick at 0x22c92d695e0>,\n",
       "  <matplotlib.axis.XTick at 0x22c92d69d30>,\n",
       "  <matplotlib.axis.XTick at 0x22c92d714c0>,\n",
       "  <matplotlib.axis.XTick at 0x22c92d71c10>,\n",
       "  <matplotlib.axis.XTick at 0x22c92d783a0>],\n",
       " [Text(0, 0, ''),\n",
       "  Text(0, 0, ''),\n",
       "  Text(0, 0, ''),\n",
       "  Text(0, 0, ''),\n",
       "  Text(0, 0, ''),\n",
       "  Text(0, 0, ''),\n",
       "  Text(0, 0, ''),\n",
       "  Text(0, 0, ''),\n",
       "  Text(0, 0, ''),\n",
       "  Text(0, 0, ''),\n",
       "  Text(0, 0, ''),\n",
       "  Text(0, 0, ''),\n",
       "  Text(0, 0, ''),\n",
       "  Text(0, 0, '')])"
      ]
     },
     "execution_count": 78,
     "metadata": {},
     "output_type": "execute_result"
    },
    {
     "data": {
      "image/png": "[encoded data removed]",
      "text/plain": [
       "<Figure size 1008x576 with 1 Axes>"
      ]
     },
     "metadata": {},
     "output_type": "display_data"
    }
   ],
   "source": [
    "import seaborn as sns\n",
    "sns.set(rc={'figure.figsize':(14, 8)})\n",
    "\n",
    "plot_countries = ['USA', 'CHN', 'RUS']\n",
    "df_countries = df.loc[df['LOCATION'].isin(plot_countries)]\n",
    "\n",
    "sns.lineplot(data=df_countries, x=\"TIME\", y=\"Value\", hue=\"LOCATION\")\n",
    "plt.xticks(['2010-01', '2011-01','2012-01', '2013-01','2014-01', '2015-01','2016-01', '2017-01','2018-01', '2019-01','2020-01', '2021-01','2022-01','2022-08'], rotation=30)"
   ]
  },
  {
   "cell_type": "code",
   "execution_count": null,
   "metadata": {},
   "outputs": [
    {
     "name": "stderr",
     "output_type": "stream",
     "text": [
      "C:\\Users\\ollie\\AppData\\Local\\Temp\\ipykernel_6312\\3040297072.py:2: SettingWithCopyWarning: \n",
      "A value is trying to be set on a copy of a slice from a DataFrame.\n",
      "Try using .loc[row_indexer,col_indexer] = value instead\n",
      "\n",
      "See the caveats in the documentation: https://pandas.pydata.org/pandas-docs/stable/user_guide/indexing.html#returning-a-view-versus-a-copy\n",
      "  df_countries['LOCATION'] = df_countries['LOCATION'].replace(dic)\n"
     ]
    }
   ],
   "source": [
    "dic = {'USA': 'United States', 'CHN': 'China', 'RUS': 'Russia'}\n",
    "df_countries['LOCATION'] = df_countries['LOCATION'].replace(dic)"
   ]
  },
  {
   "cell_type": "code",
   "execution_count": null,
   "metadata": {},
   "outputs": [],
   "source": []
  },
  {
   "cell_type": "code",
   "execution_count": null,
   "metadata": {},
   "outputs": [
    {
     "ename": "TypeError",
     "evalue": "replace() got an unexpected keyword argument 'inplace'",
     "output_type": "error",
     "traceback": [
      "\u001b[1;31m---------------------------------------------------------------------------\u001b[0m",
      "\u001b[1;31mTypeError\u001b[0m                                 Traceback (most recent call last)",
      "\u001b[1;32m~\\AppData\\Local\\Temp\\ipykernel_6312\\201641752.py\u001b[0m in \u001b[0;36m<cell line: 1>\u001b[1;34m()\u001b[0m\n\u001b[1;32m----> 1\u001b[1;33m \u001b[0mdf_countries\u001b[0m\u001b[1;33m[\u001b[0m\u001b[1;34m'LOCATION'\u001b[0m\u001b[1;33m]\u001b[0m \u001b[1;33m=\u001b[0m \u001b[0mdf_countries\u001b[0m\u001b[1;33m[\u001b[0m\u001b[1;34m'LOCATION'\u001b[0m\u001b[1;33m]\u001b[0m\u001b[1;33m.\u001b[0m\u001b[0mstr\u001b[0m\u001b[1;33m.\u001b[0m\u001b[0mreplace\u001b[0m\u001b[1;33m(\u001b[0m\u001b[1;34m'RUS'\u001b[0m\u001b[1;33m,\u001b[0m \u001b[1;34m'Russia'\u001b[0m\u001b[1;33m,\u001b[0m \u001b[0minplace\u001b[0m\u001b[1;33m=\u001b[0m\u001b[1;32mTrue\u001b[0m\u001b[1;33m)\u001b[0m\u001b[1;33m\u001b[0m\u001b[1;33m\u001b[0m\u001b[0m\n\u001b[0m",
      "\u001b[1;32mc:\\Users\\ollie\\AppData\\Local\\Programs\\Python\\Python39\\lib\\site-packages\\pandas\\core\\strings\\accessor.py\u001b[0m in \u001b[0;36mwrapper\u001b[1;34m(self, *args, **kwargs)\u001b[0m\n\u001b[0;32m    123\u001b[0m                 )\n\u001b[0;32m    124\u001b[0m                 \u001b[1;32mraise\u001b[0m \u001b[0mTypeError\u001b[0m\u001b[1;33m(\u001b[0m\u001b[0mmsg\u001b[0m\u001b[1;33m)\u001b[0m\u001b[1;33m\u001b[0m\u001b[1;33m\u001b[0m\u001b[0m\n\u001b[1;32m--> 125\u001b[1;33m             \u001b[1;32mreturn\u001b[0m \u001b[0mfunc\u001b[0m\u001b[1;33m(\u001b[0m\u001b[0mself\u001b[0m\u001b[1;33m,\u001b[0m \u001b[1;33m*\u001b[0m\u001b[0margs\u001b[0m\u001b[1;33m,\u001b[0m \u001b[1;33m**\u001b[0m\u001b[0mkwargs\u001b[0m\u001b[1;33m)\u001b[0m\u001b[1;33m\u001b[0m\u001b[1;33m\u001b[0m\u001b[0m\n\u001b[0m\u001b[0;32m    126\u001b[0m \u001b[1;33m\u001b[0m\u001b[0m\n\u001b[0;32m    127\u001b[0m         \u001b[0mwrapper\u001b[0m\u001b[1;33m.\u001b[0m\u001b[0m__name__\u001b[0m \u001b[1;33m=\u001b[0m \u001b[0mfunc_name\u001b[0m\u001b[1;33m\u001b[0m\u001b[1;33m\u001b[0m\u001b[0m\n",
      "\u001b[1;31mTypeError\u001b[0m: replace() got an unexpected keyword argument 'inplace'"
     ]
    }
   ],
   "source": [
    "df_countries['LOCATION'] = df_countries['LOCATION'].str.replace('RUS', 'Russia', inplace=True)\n"
   ]
  },
  {
   "cell_type": "code",
   "execution_count": null,
   "metadata": {},
   "outputs": [
    {
     "ename": "TypeError",
     "evalue": "string indices must be integers",
     "output_type": "error",
     "traceback": [
      "\u001b[1;31m---------------------------------------------------------------------------\u001b[0m",
      "\u001b[1;31mTypeError\u001b[0m                                 Traceback (most recent call last)",
      "\u001b[1;32m~\\AppData\\Local\\Temp\\ipykernel_6312\\1932788947.py\u001b[0m in \u001b[0;36m<cell line: 1>\u001b[1;34m()\u001b[0m\n\u001b[1;32m----> 1\u001b[1;33m \u001b[0mdf_countries\u001b[0m\u001b[1;33m[\u001b[0m\u001b[1;34m'LOCATION'\u001b[0m\u001b[1;33m]\u001b[0m\u001b[1;33m.\u001b[0m\u001b[0mstr\u001b[0m\u001b[1;33m.\u001b[0m\u001b[0mreplace\u001b[0m\u001b[1;33m(\u001b[0m\u001b[1;34m'RUS'\u001b[0m\u001b[1;33m,\u001b[0m \u001b[1;34m'Russia'\u001b[0m\u001b[1;33m,\u001b[0m \u001b[0minplace\u001b[0m\u001b[1;33m=\u001b[0m\u001b[1;32mTrue\u001b[0m\u001b[1;33m)\u001b[0m\u001b[1;33m\u001b[0m\u001b[1;33m\u001b[0m\u001b[0m\n\u001b[0m\u001b[0;32m      2\u001b[0m \u001b[0mdf_countries\u001b[0m\u001b[1;33m[\u001b[0m\u001b[1;34m'LOCATION'\u001b[0m\u001b[1;33m]\u001b[0m\u001b[1;33m.\u001b[0m\u001b[0mreplace\u001b[0m\u001b[1;33m(\u001b[0m\u001b[1;34m'USA'\u001b[0m\u001b[1;33m,\u001b[0m \u001b[1;34m'United States'\u001b[0m\u001b[1;33m,\u001b[0m \u001b[0minplace\u001b[0m\u001b[1;33m=\u001b[0m\u001b[1;32mTrue\u001b[0m\u001b[1;33m)\u001b[0m\u001b[1;33m\u001b[0m\u001b[1;33m\u001b[0m\u001b[0m\n\u001b[0;32m      3\u001b[0m \u001b[0mdf_countries\u001b[0m\u001b[1;33m[\u001b[0m\u001b[1;34m'LOCATION'\u001b[0m\u001b[1;33m]\u001b[0m\u001b[1;33m.\u001b[0m\u001b[0mreplace\u001b[0m\u001b[1;33m(\u001b[0m\u001b[1;34m'CHN'\u001b[0m\u001b[1;33m,\u001b[0m \u001b[1;34m'China'\u001b[0m\u001b[1;33m,\u001b[0m \u001b[0minplace\u001b[0m\u001b[1;33m=\u001b[0m\u001b[1;32mTrue\u001b[0m\u001b[1;33m)\u001b[0m\u001b[1;33m\u001b[0m\u001b[1;33m\u001b[0m\u001b[0m\n\u001b[0;32m      4\u001b[0m \u001b[0mdf_countries\u001b[0m\u001b[1;33m[\u001b[0m\u001b[1;34m'LOCATION'\u001b[0m\u001b[1;33m]\u001b[0m\u001b[1;33m.\u001b[0m\u001b[0mreplace\u001b[0m\u001b[1;33m(\u001b[0m\u001b[1;34m'AUS'\u001b[0m\u001b[1;33m,\u001b[0m \u001b[1;34m'Australia'\u001b[0m\u001b[1;33m,\u001b[0m \u001b[0minplace\u001b[0m\u001b[1;33m=\u001b[0m\u001b[1;32mTrue\u001b[0m\u001b[1;33m)\u001b[0m\u001b[1;33m\u001b[0m\u001b[1;33m\u001b[0m\u001b[0m\n\u001b[0;32m      5\u001b[0m \u001b[0mdf_countries\u001b[0m\u001b[1;33m[\u001b[0m\u001b[1;34m'LOCATION'\u001b[0m\u001b[1;33m]\u001b[0m\u001b[1;33m.\u001b[0m\u001b[0mreplace\u001b[0m\u001b[1;33m(\u001b[0m\u001b[1;34m'CAN'\u001b[0m\u001b[1;33m,\u001b[0m \u001b[1;34m'Canada'\u001b[0m\u001b[1;33m,\u001b[0m \u001b[0minplace\u001b[0m\u001b[1;33m=\u001b[0m\u001b[1;32mTrue\u001b[0m\u001b[1;33m)\u001b[0m\u001b[1;33m\u001b[0m\u001b[1;33m\u001b[0m\u001b[0m\n",
      "\u001b[1;31mTypeError\u001b[0m: string indices must be integers"
     ]
    }
   ],
   "source": [
    "df_countries['LOCATION'].str.replace('RUS', 'Russia', inplace=True)\n",
    "df_countries['LOCATION'].replace('USA', 'United States', inplace=True)\n",
    "df_countries['LOCATION'].replace('CHN', 'China', inplace=True)\n",
    "df_countries['LOCATION'].replace('AUS', 'Australia', inplace=True)\n",
    "df_countries['LOCATION'].replace('CAN', 'Canada', inplace=True)\n",
    "df_countries['LOCATION'].replace('DNK', 'Denmark', inplace=True)\n",
    "df_countries['LOCATION'].replace('FRA', 'France', inplace=True)\n",
    "df_countries['LOCATION'].replace('DEU', 'Germany', inplace=True)\n",
    "df_countries['LOCATION'].replace('GRC', 'Greece', inplace=True)\n",
    "df_countries['LOCATION'].replace('HUN', 'Hungary', inplace=True)\n",
    "df_countries['LOCATION'].replace('IRL', 'Ireland', inplace=True)\n",
    "df_countries['LOCATION'].replace('ITA', 'Italy', inplace=True)\n",
    "df_countries['LOCATION'].replace('JPN', 'Japan', inplace=True)\n",
    "df_countries['LOCATION'].replace('KOR' 'Korea', inplace=True)\n",
    "df_countries['LOCATION'].replace('NLD', 'Netherlands', inplace=True)\n",
    "df_countries['LOCATION'].replace('NOR', 'Norway', inplace=True)\n",
    "df_countries['LOCATION'].replace('POL', 'Poland', inplace=True)\n",
    "df_countries['LOCATION'].replace('PRT', 'Portugal', inplace=True)\n",
    "df_countries['LOCATION'].replace('ESP', 'Spain', inplace=True)\n",
    "df_countries['LOCATION'].replace('SWE', 'Sweden', inplace=True)\n",
    "df_countries['LOCATION'].replace('CHE', 'Switzerland', inplace=True)\n",
    "df_countries['LOCATION'].replace('GBR', 'United Kingdom', inplace=True)\n",
    "df_countries['LOCATION'].replace('BRA', 'Brazil', inplace=True)\n",
    "df_countries['LOCATION'].replace('CHL', 'Chile', inplace=True)\n",
    "df_countries['LOCATION'].replace('EST', 'Estonia', inplace=True)\n",
    "df_countries['LOCATION'].str.replace('IDN', 'Indonesia', inplace=True)\n",
    "\n"
   ]
  },
  {
   "cell_type": "code",
   "execution_count": null,
   "metadata": {},
   "outputs": [
    {
     "ename": "TypeError",
     "evalue": "string indices must be integers",
     "output_type": "error",
     "traceback": [
      "\u001b[1;31m---------------------------------------------------------------------------\u001b[0m",
      "\u001b[1;31mTypeError\u001b[0m                                 Traceback (most recent call last)",
      "\u001b[1;32m~\\AppData\\Local\\Temp\\ipykernel_6312\\764687218.py\u001b[0m in \u001b[0;36m<cell line: 1>\u001b[1;34m()\u001b[0m\n\u001b[1;32m----> 1\u001b[1;33m \u001b[0mdf_countries\u001b[0m \u001b[1;33m=\u001b[0m \u001b[0mdf_countries\u001b[0m\u001b[1;33m[\u001b[0m\u001b[0mdf_countries\u001b[0m\u001b[1;33m[\u001b[0m\u001b[1;34m'LOCATION'\u001b[0m\u001b[1;33m]\u001b[0m \u001b[1;33m==\u001b[0m \u001b[1;34m'RUS'\u001b[0m\u001b[1;33m]\u001b[0m \u001b[1;33m=\u001b[0m \u001b[1;34m'Russia'\u001b[0m\u001b[1;33m\u001b[0m\u001b[1;33m\u001b[0m\u001b[0m\n\u001b[0m\u001b[0;32m      2\u001b[0m \u001b[0mdf_countries\u001b[0m \u001b[1;33m=\u001b[0m \u001b[0mdf_countries\u001b[0m\u001b[1;33m[\u001b[0m\u001b[0mdf_countries\u001b[0m\u001b[1;33m[\u001b[0m\u001b[1;34m'LOCATION'\u001b[0m\u001b[1;33m]\u001b[0m \u001b[1;33m==\u001b[0m \u001b[1;34m'AUS'\u001b[0m\u001b[1;33m]\u001b[0m \u001b[1;33m=\u001b[0m \u001b[1;34m'Australia'\u001b[0m\u001b[1;33m\u001b[0m\u001b[1;33m\u001b[0m\u001b[0m\n\u001b[0;32m      3\u001b[0m \u001b[0mdf_countries\u001b[0m \u001b[1;33m=\u001b[0m \u001b[0mdf_countries\u001b[0m\u001b[1;33m.\u001b[0m\u001b[0mloc\u001b[0m\u001b[1;33m[\u001b[0m\u001b[0mdf_countries\u001b[0m\u001b[1;33m[\u001b[0m\u001b[1;34m'LOCATION'\u001b[0m\u001b[1;33m]\u001b[0m \u001b[1;33m==\u001b[0m \u001b[1;34m'USA'\u001b[0m\u001b[1;33m]\u001b[0m \u001b[1;33m=\u001b[0m \u001b[1;34m'United States'\u001b[0m\u001b[1;33m\u001b[0m\u001b[1;33m\u001b[0m\u001b[0m\n\u001b[0;32m      4\u001b[0m \u001b[0mdf_countries\u001b[0m \u001b[1;33m=\u001b[0m \u001b[0mdf_countries\u001b[0m\u001b[1;33m.\u001b[0m\u001b[0mloc\u001b[0m\u001b[1;33m[\u001b[0m\u001b[0mdf_countries\u001b[0m\u001b[1;33m[\u001b[0m\u001b[1;34m'LOCATION'\u001b[0m\u001b[1;33m]\u001b[0m \u001b[1;33m==\u001b[0m \u001b[1;34m'CHN'\u001b[0m\u001b[1;33m]\u001b[0m \u001b[1;33m=\u001b[0m \u001b[1;34m'China'\u001b[0m\u001b[1;33m\u001b[0m\u001b[1;33m\u001b[0m\u001b[0m\n\u001b[0;32m      5\u001b[0m \u001b[0mdf_countries\u001b[0m \u001b[1;33m=\u001b[0m \u001b[0mdf_countries\u001b[0m\u001b[1;33m.\u001b[0m\u001b[0mloc\u001b[0m\u001b[1;33m[\u001b[0m\u001b[0mdf_countries\u001b[0m\u001b[1;33m[\u001b[0m\u001b[1;34m'LOCATION'\u001b[0m\u001b[1;33m]\u001b[0m \u001b[1;33m==\u001b[0m \u001b[1;34m'DNK'\u001b[0m\u001b[1;33m]\u001b[0m \u001b[1;33m=\u001b[0m \u001b[1;34m'Denmark'\u001b[0m\u001b[1;33m\u001b[0m\u001b[1;33m\u001b[0m\u001b[0m\n",
      "\u001b[1;31mTypeError\u001b[0m: string indices must be integers"
     ]
    }
   ],
   "source": [
    "df_countries = df_countries[df_countries['LOCATION'] == 'RUS'] = 'Russia'\n",
    "df_countries = df_countries[df_countries['LOCATION'] == 'AUS'] = 'Australia'\n",
    "df_countries = df_countries.loc[df_countries['LOCATION'] == 'USA'] = 'United States'\n",
    "df_countries = df_countries.loc[df_countries['LOCATION'] == 'CHN'] = 'China'\n",
    "df_countries = df_countries.loc[df_countries['LOCATION'] == 'DNK'] = 'Denmark'\n",
    "df_countries = df_countries.loc[df_countries['LOCATION'] == 'FRA'] = 'France'\n",
    "df_countries = df_countries.loc[df_countries['LOCATION'] == 'DEU'] = 'Germany'\n",
    "df_countries = df_countries.loc[df_countries['LOCATION'] == 'ITA'] = 'Italy'\n",
    "df_countries = df_countries.loc[df_countries['LOCATION'] == 'JPN'] = 'Japan'\n",
    "df_countries = df_countries.loc[df_countries['LOCATION'] == 'KOR'] = 'South Korea'\n",
    "df_countries = df_countries.loc[df_countries['LOCATION'] == 'NLD'] = 'Netherlands'\n",
    "df_countries = df_countries.loc[df_countries['LOCATION'] == 'NOR'] = 'Norway'\n",
    "df_countries = df_countries.loc[df_countries['LOCATION'] == 'ESP'] = 'Spain'\n",
    "df_countries = df_countries.loc[df_countries['LOCATION'] == 'SWE'] = 'Sweden'\n",
    "df_countries = df_countries.loc[df_countries['LOCATION'] == 'CHE'] = 'Switzerland'\n",
    "df_countries = df_countries.loc[df_countries['LOCATION'] == 'GBR'] = 'United Kingdom'\n",
    "df_countries = df_countries.loc[df_countries['LOCATION'] == 'BRA'] = 'Brazil'\n",
    "df_countries = df_countries.loc[df_countries['LOCATION'] == 'CHL'] = 'Chile'"
   ]
  },
  {
   "cell_type": "code",
   "execution_count": null,
   "metadata": {},
   "outputs": [],
   "source": []
  },
  {
   "cell_type": "code",
   "execution_count": null,
   "metadata": {},
   "outputs": [],
   "source": []
  }
 ],
 "metadata": {
  "kernelspec": {
   "display_name": "Python 3.9.1 64-bit",
   "language": "python",
   "name": "python3"
  },
  "language_info": {
   "codemirror_mode": {
    "name": "ipython",
    "version": 3
   },
   "file_extension": ".py",
   "mimetype": "text/x-python",
   "name": "python",
   "nbconvert_exporter": "python",
   "pygments_lexer": "ipython3",
   "version": "3.9.1"
  },
  "orig_nbformat": 4,
  "vscode": {
   "interpreter": {
    "hash": "1fb881d9f39504f7fbe231a8e3953618d8926de4c72dffcad5b6d5bced563102"
   }
  }
 },
 "nbformat": 4,
 "nbformat_minor": 2
}
